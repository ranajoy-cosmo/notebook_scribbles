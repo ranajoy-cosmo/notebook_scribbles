{
 "cells": [
  {
   "cell_type": "markdown",
   "metadata": {},
   "source": [
    "# Reimagining the wheel!\n",
    "### *5 ways of getting the area of a circle*\n",
    "\n",
    "First thing first, let's import our libraries.\n",
    "\n",
    "### We need:\n",
    "\n",
    "1) numpy\n",
    "2) scipy"
   ]
  },
  {
   "cell_type": "code",
   "execution_count": 1,
   "metadata": {},
   "outputs": [],
   "source": [
    "import numpy as np\n",
    "from scipy.integrate import dblquad\n",
    "pi = np.pi"
   ]
  },
  {
   "cell_type": "code",
   "execution_count": 2,
   "metadata": {},
   "outputs": [],
   "source": [
    "r = 10.0"
   ]
  },
  {
   "cell_type": "code",
   "execution_count": 3,
   "metadata": {},
   "outputs": [],
   "source": [
    "def area_circle_formula(r):\n",
    "    \"\"\"\n",
    "    r -> radius\n",
    "    \"\"\"\n",
    "    area = pi * r**2\n",
    "    return area"
   ]
  },
  {
   "cell_type": "code",
   "execution_count": 4,
   "metadata": {},
   "outputs": [
    {
     "name": "stdout",
     "output_type": "stream",
     "text": [
      "Area of circle of radius 10.0: 314.1593\n"
     ]
    }
   ],
   "source": [
    "print(f\"Area of circle of radius {r}: {area_circle_formula(r):.4f}\")"
   ]
  },
  {
   "cell_type": "code",
   "execution_count": 5,
   "metadata": {},
   "outputs": [],
   "source": [
    "def area_triangle(base, height):\n",
    "    area = 0.5 * base * height\n",
    "    return area\n",
    "\n",
    "def area_circle_egypt(r, divs):\n",
    "    \"\"\"\n",
    "    r -> radius\n",
    "    divs -> divisions of the circumference\n",
    "    \"\"\"\n",
    "    theta = 2.0 * pi / divs\n",
    "    tri_base = 2.0 * np.sin(theta/2.0) * r\n",
    "    tri_area = area_triangle(tri_base, r)\n",
    "    area = divs * tri_area\n",
    "    return area"
   ]
  },
  {
   "cell_type": "code",
   "execution_count": 6,
   "metadata": {},
   "outputs": [],
   "source": [
    "divs = 1000"
   ]
  },
  {
   "cell_type": "code",
   "execution_count": 7,
   "metadata": {},
   "outputs": [
    {
     "name": "stdout",
     "output_type": "stream",
     "text": [
      "Area of circle of radius 10.0: 314.1587\n"
     ]
    }
   ],
   "source": [
    "print(f\"Area of circle of radius {r}: {area_circle_egypt(r, divs):.4f}\")"
   ]
  },
  {
   "cell_type": "code",
   "execution_count": 8,
   "metadata": {},
   "outputs": [],
   "source": [
    "def strip_height(dist, r):\n",
    "    height = 2.0 * np.sqrt(r**2 - dist**2)\n",
    "    return height\n",
    "\n",
    "def area_circle_strips(r, divs):\n",
    "    str_dists = np.linspace(-1.0*r, r, divs, endpoint=False)\n",
    "    delta_width = 2*r / divs\n",
    "    str_h = strip_height(str_dists, r)\n",
    "    area = np.sum(delta_width * str_h)\n",
    "    return area"
   ]
  },
  {
   "cell_type": "code",
   "execution_count": 9,
   "metadata": {},
   "outputs": [
    {
     "name": "stdout",
     "output_type": "stream",
     "text": [
      "Area of circle of radius 10.0: 314.1487\n"
     ]
    }
   ],
   "source": [
    "print(f\"Area of circle of radius {r}: {area_circle_strips(r, divs):.4f}\")"
   ]
  },
  {
   "cell_type": "code",
   "execution_count": 10,
   "metadata": {},
   "outputs": [],
   "source": [
    "def area_circle_integrate(R):\n",
    "    area = dblquad(lambda r,t: r, 0, 2*pi, 0, R)\n",
    "    return area"
   ]
  },
  {
   "cell_type": "code",
   "execution_count": 11,
   "metadata": {},
   "outputs": [
    {
     "name": "stdout",
     "output_type": "stream",
     "text": [
      "Area of circle of radius 10.0: 314.1593\n"
     ]
    }
   ],
   "source": [
    "print(f\"Area of circle of radius {r}: {area_circle_integrate(r)[0]:.4f}\")"
   ]
  },
  {
   "cell_type": "code",
   "execution_count": 12,
   "metadata": {},
   "outputs": [],
   "source": [
    "def is_in_circle(x, y, r):\n",
    "    dist = np.sqrt(x**2 + y**2)\n",
    "    is_in = dist < r\n",
    "    return is_in\n",
    "    \n",
    "def area_circle_MC(r, n_samp):\n",
    "    x = -1.0*r + 2*r*np.random.random(n_samp)\n",
    "    y = -1.0*r + 2*r*np.random.random(n_samp)\n",
    "    frac_in = np.sum(is_in_circle(x,y,r)) / n_samp\n",
    "    area = 4 * r**2 * frac_in\n",
    "    return area"
   ]
  },
  {
   "cell_type": "code",
   "execution_count": 13,
   "metadata": {},
   "outputs": [
    {
     "name": "stdout",
     "output_type": "stream",
     "text": [
      "Area of circle of radius 10.0: 314.3952\n"
     ]
    }
   ],
   "source": [
    "n_samp = 1000000\n",
    "print(f\"Area of circle of radius {r}: {area_circle_MC(r,n_samp):.4f}\")"
   ]
  }
 ],
 "metadata": {
  "kernelspec": {
   "display_name": "Python 3",
   "language": "python",
   "name": "python3"
  },
  "language_info": {
   "codemirror_mode": {
    "name": "ipython",
    "version": 3
   },
   "file_extension": ".py",
   "mimetype": "text/x-python",
   "name": "python",
   "nbconvert_exporter": "python",
   "pygments_lexer": "ipython3",
   "version": "3.7.5"
  }
 },
 "nbformat": 4,
 "nbformat_minor": 4
}
